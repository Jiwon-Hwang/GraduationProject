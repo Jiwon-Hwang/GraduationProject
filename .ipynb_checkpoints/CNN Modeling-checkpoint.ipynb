{
 "cells": [
  {
   "cell_type": "markdown",
   "metadata": {},
   "source": [
    "# [MNIST - 2층 MLP(네트워크) 모델]"
   ]
  },
  {
   "cell_type": "markdown",
   "metadata": {},
   "source": [
    "### 케라스 코드를 이용해서 MNIST 데이터셋 다운로드"
   ]
  },
  {
   "cell_type": "code",
   "execution_count": 1,
   "metadata": {
    "scrolled": false
   },
   "outputs": [
    {
     "name": "stderr",
     "output_type": "stream",
     "text": [
      "Using TensorFlow backend.\n"
     ]
    }
   ],
   "source": [
    "from keras.datasets import mnist # THE MNIST DATABASE of handwritten 웹사이트에서 MNIST라는 DB 다운가능(케라스 코드 사용해서 쓸거임)\n",
    "(x_train, y_train), (x_test, y_test) = mnist.load_data() # 6만개의 훈련용 데이터(이미지&라벨)가 x_train, y_train에 저장되고, \n",
    "                                                         # 1만개의 테스트용 데이터는 x_test, y_test에 저장됨!\n",
    "# x_train : 60000 X 28 X 28의 배열 변수. 각 요소는 0~255의 값을 갖는 정수. i번째 이미지는 x_train[i,:,:]로 꺼낼 수 있음\n",
    "# y_train : 길이가 60000인 1차원 배열 변수. 각 요소는 0~9의 정수. y[i] : 이미지 i에 대응하는 0~9사이의 값."
   ]
  },
  {
   "cell_type": "markdown",
   "metadata": {},
   "source": [
    "### 실제로 한번 x_train에 저장된 처음 3개의 이미지 데이터 표시해보기!"
   ]
  },
  {
   "cell_type": "code",
   "execution_count": 2,
   "metadata": {
    "scrolled": true
   },
   "outputs": [
    {
     "data": {
      "image/png": "[encoded data removed]",
      "text/plain": [
       "<Figure size 864x230.4 with 3 Axes>"
      ]
     },
     "metadata": {
      "needs_background": "light"
     },
     "output_type": "display_data"
    }
   ],
   "source": [
    "import numpy as np\n",
    "import matplotlib.pyplot as plt # Python 라이브러리 중 하나로 그림이나 도형을 그려준다. \n",
    "                                 # 데이터 입력을 위해 numpy나 scipy와 같이 사용하며, MATLAB 대신 쓸 수도 있다.\n",
    "# %matplotlib inline : notebook을 실행한 브라우저에서 바로 rich output(그림, 표, 소리, 영상 등)을 볼 수 있게 해주는 것!\n",
    "%matplotlib inline \n",
    "plt.figure(1, figsize=(12,3.2)) # 새로운 figure를 생성. plt.figure(figure number, 가로x세로!!) => figsize() 단위 : 인치(inch)\n",
    "plt.subplots_adjust(wspace=0.5) # 현재 배치되어있는 subplot들의 위치를 조정해줌. wspace(가로), hspace(세로)는 subplot들 사이의 간격\n",
    "plt.gray()\n",
    "for id in range(3):\n",
    "    plt.subplot(1,3,id+1) # 1행 X 3열 (가로 한줄에 3개의 subplot), id+1=1부터 1,2,3번째 subplot 지정(하나의 figure에) **1번째부터 시작!!\n",
    "    img = x_train[id,:,:] #id = 0번째부터 2번째 (총 3개 이미지 순서대로 가져오기)\n",
    "    plt.pcolor(255-img) # pseudocolor로 그래프 표시하기 => 0을 흰색으로, 255를 검정으로 표현하기 위해서 255에서 반대로 빼주기!\n",
    "    plt.text(24.5, 26, \"%d\"%y_train[id], color='cornflowerblue', fontsize=18) #  text(x축, y축, 문자열)=>좌표에 comment(text)를 추가.\n",
    "    plt.xlim(0,27)\n",
    "    plt.ylim(27,0)\n",
    "    plt.grid('on',color='white')\n",
    "plt.show()\n",
    "\n",
    "# y_train(훈련집합의 y 변수에 들어있는 0~9 사이의 라벨값(클래스)들을 우측 하단에 text로 이미지와 함께 표시)\n",
    "# 흰색을 0으로, 검정색을 255로 표현(pcolor(255-img)로 반대로 바꿔주었음)\n",
    "# 참고로 이미지 크기 : 28X28. 따라서 plt.text의 좌표를 (24.5,26)로!\n",
    "# 또한 각 그래프의 x,y 표시 범위를 0~27까지로!\n",
    "\n",
    "# ***단위*** : figsize(w,h)는 실제 inch 단위(가로길이, 세로길이) / text(x,y), xlim(x,y), ylim(x,y) => 모두 길이가 아니라 축!!! 위치!!!"
   ]
  },
  {
   "cell_type": "markdown",
   "metadata": {},
   "source": [
    "### 데이터를 사용하기 쉬운 형태로 변경하기"
   ]
  },
  {
   "cell_type": "code",
   "execution_count": 3,
   "metadata": {
    "scrolled": false
   },
   "outputs": [
    {
     "name": "stdout",
     "output_type": "stream",
     "text": [
      "(60000,)\n",
      "5\n",
      "(60000, 10)\n"
     ]
    }
   ],
   "source": [
    "from keras.utils import np_utils # to_categorical() 함수 가져오기 위해서!\n",
    "\n",
    "x_train = x_train.reshape(60000, 784) # (60000장의) 28 X 28의 이미지 데이터를 (60000장의) 784길이의 벡터로! 2차원 이미지를 1차원 벡터로!\n",
    "x_train = x_train.astype('float32') # astype('형') : 배열의 형을 통째로 바꿀 때. 입력은 실수로 처리하고 싶으므로, int형을 float형으로 변환!\n",
    "x_train = x_train / 255 # 각 값을 255로 나눠서 0~1사이의 실수값을 갖도록 변환.\n",
    "num_classes = 10 # 0~9의 정수 부류 총 10개\n",
    "\n",
    "print(np.shape(y_train)) # 출력해보면 원핫코드로 바꾸기 전에는 y_train : 60000 X 1 의 열벡터 (1차원)\n",
    "print(y_train[0]) # 첫번째 이미지의 라벨은 5의 값을 갖고 있음.\n",
    "y_train = np_utils.to_categorical(y_train, num_classes) # np.utils.to_categorical()라는 케라스 함수 : 1-of-K 부호화법으로 변경!\n",
    "print(np.shape(y_train)) # 라벨값을 갖고 있던 y_train벡터를 각각 길이 10인 원핫코드로 바꿈으로써 차원이 하나 늘어남! (2차원으로)\n",
    "\n",
    "x_test = x_test.reshape(10000,784)\n",
    "x_test = x_test.astype('float32')\n",
    "x_test = x_test / 255\n",
    "y_test = np_utils.to_categorical(y_test, num_classes)\n",
    "\n",
    "# 1-of-K encoding(부호화법) : 원핫인코딩! => keras에서 제공하는 np_utils.to_categorial()함수 이용하면됨.\n",
    "# ex. to_categorical([2, 5, 1, 6, 3, 7]) => 결과[[0. 0. 1. 0. 0. 0. 0. 0.] ... ] : 각각 원핫인코딩된 벡터들 모두 출력\n",
    "# to_categorical(y_train, num_classes) : y_train(0~9사이의 라벨)을 categorical one-hot encoding으로 바꾸기! => 그래야 오차 구해나감!!!\n",
    "# 이 블럭 계속 실행하다보면 y_train의 차원이 계속 하나씩 증가..."
   ]
  },
  {
   "cell_type": "markdown",
   "metadata": {},
   "source": [
    "### 네트워크 모델(신경망) 정의 => model.add()"
   ]
  },
  {
   "cell_type": "markdown",
   "metadata": {},
   "source": [
    "* 입력은 784차원의 열벡터\n",
    "* 출력층은 10개의 뉴런(각 뉴런의 출력값이 확률을 나타내도록 하기 위해, 활성화함수로 softmax 사용. (10개 합하면 1)\n",
    "* 입력층과 출력층 사이의 중간층은 16개의 노드로 구성. 중간층의 활성화함수로는 sigmoid 사용."
   ]
  },
  {
   "cell_type": "code",
   "execution_count": 4,
   "metadata": {},
   "outputs": [
    {
     "name": "stdout",
     "output_type": "stream",
     "text": [
      "WARNING:tensorflow:From C:\\Users\\pc\\Anaconda3\\lib\\site-packages\\keras\\backend\\tensorflow_backend.py:66: The name tf.get_default_graph is deprecated. Please use tf.compat.v1.get_default_graph instead.\n",
      "\n",
      "WARNING:tensorflow:From C:\\Users\\pc\\Anaconda3\\lib\\site-packages\\keras\\backend\\tensorflow_backend.py:541: The name tf.placeholder is deprecated. Please use tf.compat.v1.placeholder instead.\n",
      "\n",
      "WARNING:tensorflow:From C:\\Users\\pc\\Anaconda3\\lib\\site-packages\\keras\\backend\\tensorflow_backend.py:4432: The name tf.random_uniform is deprecated. Please use tf.random.uniform instead.\n",
      "\n",
      "WARNING:tensorflow:From C:\\Users\\pc\\Anaconda3\\lib\\site-packages\\keras\\optimizers.py:793: The name tf.train.Optimizer is deprecated. Please use tf.compat.v1.train.Optimizer instead.\n",
      "\n",
      "WARNING:tensorflow:From C:\\Users\\pc\\Anaconda3\\lib\\site-packages\\keras\\backend\\tensorflow_backend.py:3576: The name tf.log is deprecated. Please use tf.math.log instead.\n",
      "\n"
     ]
    }
   ],
   "source": [
    "np.random.seed(1)\n",
    "from keras.models import Sequential  # Sequential 모델은 레이어들을 선형으로(일렬로) 연결하여 구성\n",
    "from keras.layers import Dense, Activation\n",
    "from keras.optimizers import Adam\n",
    "\n",
    "# 모델 구성하기\n",
    "model = Sequential() # Sequential이라는 유형의 네트워크 모델(클래스)로 model이라는 '객체' 생성. 변수아님! => 이 model에 층 추가하기.\n",
    "model.add(Dense(16, input_dim=784, activation='sigmoid'))\n",
    "model.add(Dense(10, activation='softmax'))\n",
    "\n",
    "# 모델 학습과정 설정하기\n",
    "model.compile(loss='categorical_crossentropy', optimizer='Adam', metrics=['accuracy']) # metrics : 측정 수단(학습의 '정답률' 계산!)\n",
    "\n",
    "# model.compile(loss, optimizer, metrics) => compile()함수의 3가지 인자\n",
    "# loss(손실함수=오차함수=목적함수) / optimizer('adam'이나 'sgd'와 같은 최적화 알고리즘) / metrics(힉습을 모니터링하기 위한 측정 수단)"
   ]
  },
  {
   "cell_type": "markdown",
   "metadata": {},
   "source": [
    "### 위에서 만든 모델로 학습시키고 평가하기 => model.fit(), model.evaluate()"
   ]
  },
  {
   "cell_type": "code",
   "execution_count": 5,
   "metadata": {
    "scrolled": false
   },
   "outputs": [
    {
     "name": "stdout",
     "output_type": "stream",
     "text": [
      "WARNING:tensorflow:From C:\\Users\\pc\\Anaconda3\\lib\\site-packages\\tensorflow\\python\\ops\\math_grad.py:1250: add_dispatch_support.<locals>.wrapper (from tensorflow.python.ops.array_ops) is deprecated and will be removed in a future version.\n",
      "Instructions for updating:\n",
      "Use tf.where in 2.0, which has the same broadcast rule as np.where\n",
      "WARNING:tensorflow:From C:\\Users\\pc\\Anaconda3\\lib\\site-packages\\keras\\backend\\tensorflow_backend.py:1033: The name tf.assign_add is deprecated. Please use tf.compat.v1.assign_add instead.\n",
      "\n",
      "Train on 60000 samples, validate on 10000 samples\n",
      "Epoch 1/10\n",
      "60000/60000 [==============================] - 1s 13us/step - loss: 2.0658 - acc: 0.2863 - val_loss: 1.7891 - val_acc: 0.4965\n",
      "Epoch 2/10\n",
      "60000/60000 [==============================] - 1s 9us/step - loss: 1.6080 - acc: 0.6492 - val_loss: 1.4394 - val_acc: 0.7661\n",
      "Epoch 3/10\n",
      "60000/60000 [==============================] - 0s 8us/step - loss: 1.3215 - acc: 0.7874 - val_loss: 1.2004 - val_acc: 0.8198\n",
      "Epoch 4/10\n",
      "60000/60000 [==============================] - 1s 8us/step - loss: 1.1152 - acc: 0.8243 - val_loss: 1.0211 - val_acc: 0.8443\n",
      "Epoch 5/10\n",
      "60000/60000 [==============================] - 1s 9us/step - loss: 0.9564 - acc: 0.8433 - val_loss: 0.8813 - val_acc: 0.8582\n",
      "Epoch 6/10\n",
      "60000/60000 [==============================] - 0s 8us/step - loss: 0.8326 - acc: 0.8584 - val_loss: 0.7734 - val_acc: 0.8707\n",
      "Epoch 7/10\n",
      "60000/60000 [==============================] - 0s 8us/step - loss: 0.7371 - acc: 0.8689 - val_loss: 0.6896 - val_acc: 0.8794\n",
      "Epoch 8/10\n",
      "60000/60000 [==============================] - 0s 8us/step - loss: 0.6626 - acc: 0.8775 - val_loss: 0.6244 - val_acc: 0.8866\n",
      "Epoch 9/10\n",
      "60000/60000 [==============================] - 0s 8us/step - loss: 0.6033 - acc: 0.8833 - val_loss: 0.5720 - val_acc: 0.8919\n",
      "Epoch 10/10\n",
      "60000/60000 [==============================] - 0s 8us/step - loss: 0.5553 - acc: 0.8891 - val_loss: 0.5294 - val_acc: 0.8952\n",
      "Test loss: 0.5293875521659851\n",
      "Test accuracy: 0.8952\n",
      "Computation time:5.717495 sec\n"
     ]
    }
   ],
   "source": [
    "import time # 시간을 계산하기 위한 파이썬 기본 모듈\n",
    "\n",
    "startTime = time.time() # import한 time 모듈의 time()함수. 학습 시작 시간 계산.\n",
    "\n",
    "# model.fit()으로 ***모델 학습***시키기. (모델 사용 전)\n",
    "history = model.fit(x_train, y_train, epochs=10, batch_size=1000, verbose=1, validation_data=(x_test, y_test))\n",
    "\n",
    "# model.evaluate()으로 ***모델 평가***하기.\n",
    "score = model.evaluate(x_test, y_test, verbose=0) # model.evaluate()의 shape : (2,). (2,1) 과 같음. 0번지엔 엔트로피오차, 1번지엔 정답률\n",
    "print('Test loss:', score[0])\n",
    "print('Test accuracy:', score[1])\n",
    "print('Computation time:{0:3f} sec'.format(time.time() - startTime))\n",
    "\n",
    "# model.fit()의 인자들\n",
    "# x_train, y_train : 훈련할 데이터를 지정\n",
    "# epochs : 전체 데이터를 학습에 몇번(몇바퀴) 사용할건지.\n",
    "# batch_size : 한 바퀴(1단계) 계산하는데에 몇개의 학습데이터를 사용할건지\n",
    "# verbose : verbose=0이면 학습 진행 상황을 표시하지 않음, 1이면 매 시기의 학습 진행 상황을 표시함. (오차, 정밀도, 계산 시간)\n",
    "# validation_data=(,) : test할 데이터 지정\n",
    "# 따라서 history : 학습 과정의 정보가 들어있음!\n",
    "\n",
    "# model.evaluate()의 인자들\n",
    "# x_test, y_test : 테스트할 데이터 지정\n",
    "# verbose=0 : 학습진행상황 표시x\n",
    "# 따라서 score : score[0]엔 엔트로피오차, score[1]엔 정답률을 return함! (평가 결과)"
   ]
  },
  {
   "cell_type": "markdown",
   "metadata": {},
   "source": [
    "### 1. Epoch이란? \n",
    "\n",
    "**전체 sample 데이터**를 이용하여 **한 바퀴 돌며 학습**하는 것을 1회 epoch이라 부른다.  \n",
    "따라서 2 epochs은 전체 sample을 이용하여 두 바퀴를 돌며 학습한 것이다.\n",
    "\n",
    "\n",
    "### 2. Step이란?\n",
    "**Weight와 Bias를 1회 업데이트**하는 것을 1 Step이라 부른다.\n",
    "\n",
    "\n",
    "### 3. Batch Size란?\n",
    "**1회 Step에서 사용한 데이터의 수**이다.  \n",
    "따라서 Batch Size가 100이라고 가정하고 Step이 5이면 약 500개의 데이터를 이용한 것이다.\n",
    "\n",
    "\n",
    "따라서 아래와 같은 관계가 성립한다.  \n",
    "\n",
    "### s = (n * e) / b\n",
    "\n",
    "* n = num of sample : 전체 학습할 데이터의 개수\n",
    "* e = epochs: Epoch 수\n",
    "* b = batch size: 배치 사이\n",
    "* s = 총 step 수 (총 s 회만큼 매개변수들 업데이트)"
   ]
  },
  {
   "cell_type": "markdown",
   "metadata": {},
   "source": [
    "ex. 전체 훈련 데이터가 60000장이고, batch_size = 1000으로 할 경우, 데이터를 모두 사용하는데에 60회의 매개변수 갱신이 이루어짐.  \n",
    "이를 1 epoch라고 한다. (1 epoch당 총 60 steps)  \n",
    "만약 epochs=10으로 지정하면, 총 600회의 매개변수 갱신이 이루어진다.(총 600 steps)  "
   ]
  },
  {
   "cell_type": "markdown",
   "metadata": {},
   "source": [
    "### 오버피팅이 일어나지 않았는지 확인 (test set 오차의 시간 변화 보기)"
   ]
  },
  {
   "cell_type": "code",
   "execution_count": 6,
   "metadata": {},
   "outputs": [
    {
     "data": {
      "text/plain": [
       "<Figure size 720x288 with 0 Axes>"
      ]
     },
     "execution_count": 6,
     "metadata": {},
     "output_type": "execute_result"
    },
    {
     "data": {
      "text/plain": [
       "<Figure size 720x288 with 0 Axes>"
      ]
     },
     "metadata": {},
     "output_type": "display_data"
    }
   ],
   "source": [
    "import numpy as np\n",
    "import matplotlib.pyplot as plt\n",
    "%matplotlib inline\n",
    "\n",
    "plt.figure(1, figsize=(10,4))\n"
   ]
  },
  {
   "cell_type": "markdown",
   "metadata": {},
   "source": [
    "### 실제 test set 데이터 입력했을 때 모델의 출력 보기 (모델 실제 사용) => model.predict(x_test)"
   ]
  },
  {
   "cell_type": "code",
   "execution_count": 9,
   "metadata": {},
   "outputs": [
    {
     "name": "stdout",
     "output_type": "stream",
     "text": [
      "(10000, 10) [0.01951263 0.00406709 0.01304098 0.01402721 0.00793744 0.00427283\n",
      " 0.00189303 0.84393394 0.0213782  0.06993661]\n"
     ]
    }
   ],
   "source": [
    "print(np.shape(model.predict(x_test)), model.predict(x_test)[0,:])\n",
    "# test set 전체 예측 결과(모델의 출력)값의 shape => (10000장 X 0~9의 클래스 10개)\n",
    "# 10000장 X 0~9까지 클래스의 확률값(softmax거친 것) => 따라서 test set의 첫번째 숫자의 예측값은 7 (0.84~~로 7의 확률 제일 큼)\n",
    "# 아래 함수에서 y = model.predict(x_test)임. y가 모델의 출력값 배열"
   ]
  },
  {
   "cell_type": "code",
   "execution_count": 13,
   "metadata": {
    "scrolled": false
   },
   "outputs": [
    {
     "data": {
      "image/png": "[encoded data removed]",
      "text/plain": [
       "<Figure size 864x576 with 96 Axes>"
      ]
     },
     "metadata": {},
     "output_type": "display_data"
    }
   ],
   "source": [
    "def show_prediction():\n",
    "    n_show = 96 # x_test 전체에 대한 모델의 출력 y들 중에서 처음 앞에서부터 96개만 표시 (for문에서 96개의 subplot 생성)\n",
    "    y = model.predict(x_test) # 이 부분에서 이미 x_test 10000장 전체에 대한 모델의 출력(예측부류값)을 얻은 것! (아직 show는 X)\n",
    "    plt.figure(2, figsize=(12,8)) # plt.figure(figure number, figsize=(w,h)) / 12 * 8 = 96(개)\n",
    "    plt.gray()\n",
    "    # 전체 모델의 출력 중에서도 96개만 show해주기 (작은 subplot들 한 칸씩 그리기)\n",
    "    for i in range(n_show):\n",
    "        plt.subplot(8,12,i+1) # subplot은 1번부터 시작(0번 X), 8행 12열 (8 X 12)\n",
    "        x = x_test[i, :] # x_test : (10000 X 784)꼴! 따라서 i에 따라서 한 행씩(한 이미지씩) 가지고 옴\n",
    "        x = x.reshape(28,28) # (1 X 784)꼴이었던 x_test[i,:]를 다시 (28 X 28)꼴로 바꿈\n",
    "        plt.pcolor(1-x) # 위에서 x_test는 0~1 사이의 값을 갖도록 셋팅해놨었음. / plt.pcolor(x) : 행렬 x로 pseudocolor 그래프 표시하기!\n",
    "        wk = y[i,:] # wk는 1차원 행벡터 (한 줄) / 예측값(모델의 출력값)인 y는 2차원 배열. 각 클래스에 대한 확률값들 갖고 있음.\n",
    "        prediction = np.argmax(wk) # np.argmax() : 배열(wk)의 최대값의 ***index***를 반환! 따라서 prediction은 0~9사이의 정수값 1개\n",
    "        plt.text(22,22.5, \"%d\"%prediction, fontsize=12)\n",
    "        \n",
    "        # 예측값이 틀렸을 경우에 표시할 파란선\n",
    "        if prediction != np.argmax(y_test[i, :]):\n",
    "            plt.plot([0,27], [1,1], color='cornflowerblue', linewidth=5) # plt.plot(x값들, y값들) : 선그래프를 그리는 함수. x & y 1:1 대응\n",
    "        plt.xlim(0,27)\n",
    "        plt.ylim(27,0) # ?? => (0,27)로 하면, 숫자들(이미지) 다 위아래 뒤집어져서 나옴...\n",
    "        plt.xticks([], \"\")\n",
    "        plt.yticks([], \"\")\n",
    "\n",
    "# 메인\n",
    "show_prediction()\n",
    "plt.show()"
   ]
  },
  {
   "cell_type": "markdown",
   "metadata": {},
   "source": [
    "**< plt.plot([0, 27], [1, 1], color='cornflowerblue', linewidth=5) 부가 설명 >**\n",
    "* (0,1) ~ (27,1) 까지 선으로 그릴것임.\n",
    "* plot에서 원점은 좌측 상단에 위치하므로, 선으로 그리면 각 subplot의 맨 위에 가로 한줄.\n",
    "* 각 subplot은 28 X 28로 reshape한 x_test 이미지 한장한장이므로 x, y축값 모두 0~27의 범위!"
   ]
  },
  {
   "cell_type": "markdown",
   "metadata": {},
   "source": [
    "**< plt.plot() 관련 함수들 >**\n",
    "* plt.figure(1, figsize=(12,8)) => figure number는 1이고(첫번째 figure), figure의 크기는 width가 12, height가 8이다 (단위 : inch)\n",
    "* plt.subplot(1, 3, 2) => 1행 3열짜리 총 3개 subplot들 중에서 2번째 꺼!\n",
    "* plt.subplots_adjust(wspace=0.5) => subplot들 간의 간격 등 관계 설정\n",
    "* plt.pcolor(x) : 행렬 x로 pseudocolor 그래프 표시하기! / plt.pcolor(1-x) => 픽셀값 반대로 뒤집기(x가 0~1사이의 값일때)\n",
    "* plt.plot(x값들, y값들, color, linewidth)\n",
    "* plt.text(x위치, y위치, \"text\")\n",
    "* plt.xlim(min,max), plt.ylim(min,max) => x축과 y축의 범위\n",
    "* plt.xticks(), plt.yticks() => 각 눈금 위치에 어떻게 표시할지.\n",
    "* plt.show() : 그래프 전체 보여주기"
   ]
  },
  {
   "cell_type": "markdown",
   "metadata": {},
   "source": [
    "<hr>"
   ]
  },
  {
   "cell_type": "markdown",
   "metadata": {},
   "source": [
    "# [MNIST - 중간층의 활성화함수를 Sigmoid에서 ReLU로 바꿔보기]"
   ]
  },
  {
   "cell_type": "markdown",
   "metadata": {},
   "source": [
    "![sigmoid & relu](https://lh3.googleusercontent.com/proxy/YJ4FGDQbVljo6TZdRryjeH22xX_xt-tNIOktZOQYsAmX65YLZ9TnWOoLvH9I8L5o-xxdo2expRvJP8zgPDvnxsE8TDlA4XsJYB0OhUg1lcLFmaxtvF-py4XkAvEenhWgYHE32FxRxmV1bkWedkF8dXKiijt06cPjgzUfGo5xmVdbEBaWcZrtasZZh39SA07Gb9WYTtLA2JAE3LlshGUN_ULI-JcF5NraLCYVlYGq6s-cBQG70gbQjr2eXY3XqPMEpOacZqKw3-Z3bX91aERHtNpq9Dk_GfGdVIHzQQ)"
   ]
  },
  {
   "cell_type": "code",
   "execution_count": 17,
   "metadata": {},
   "outputs": [],
   "source": [
    "# ReLU함수 \n",
    "def ReLU(x): return max(0,x)"
   ]
  },
  {
   "cell_type": "markdown",
   "metadata": {},
   "source": [
    "* sigmoid : 입력 x값이 어느 정도 커지면 항상 1에 가까운 값을 출력하기 때문에, 입력의 변화가 출력에 반영되기 어렵다. (학습 늦어짐)\n",
    "* ReLU : 학습의 정체 문제 해결 & max(0,x)로 쉽게 나타낼 수 있어서 계산이 빠름."
   ]
  },
  {
   "cell_type": "markdown",
   "metadata": {},
   "source": [
    "### 위 네트워크의 중간층의 활성화 함수를 ReLU로 바꿔서 실행 => model.add(Dense(activation='relu'))"
   ]
  },
  {
   "cell_type": "markdown",
   "metadata": {},
   "source": [
    "해보면 정확도가 오른다는 것을 알 수 있다. (Test accuracy : 0.9292, show_prediction() 결과 오류 줄음)"
   ]
  },
  {
   "cell_type": "markdown",
   "metadata": {},
   "source": [
    "### 더 성능을(정확도) 올리려면?"
   ]
  },
  {
   "cell_type": "markdown",
   "metadata": {},
   "source": [
    "* 중간층 노드 개수를 늘린다\n",
    "> 하지만 *근본적인 문제* : 이 모델은 '입력은 **2차원 이미지**'라는 **공간 정보**를 전혀 사용하지 않았음! => 많은 정보 잃은 셈.\n",
    "* 28 X 28의 이미지를 784 길이의 벡터로 전개해서 네트워크에 입력했음. \n",
    "* CNN은 영상처럼(이미지) 격자 구조를 가진 데이터에 적합! (한 요소와 이웃 요소의 관련성이 깊은 구조)"
   ]
  },
  {
   "cell_type": "markdown",
   "metadata": {},
   "source": [
    "<hr>"
   ]
  },
  {
   "cell_type": "markdown",
   "metadata": {},
   "source": [
    "# [MNIST - Convolution 연산으로 특징 추출하기(CNN)]"
   ]
  },
  {
   "cell_type": "code",
   "execution_count": 19,
   "metadata": {},
   "outputs": [
    {
     "name": "stdout",
     "output_type": "stream",
     "text": [
      "Once deleted, variables cannot be recovered. Proceed (y/[n])? y\n"
     ]
    }
   ],
   "source": [
    "%reset"
   ]
  },
  {
   "cell_type": "markdown",
   "metadata": {},
   "source": [
    "### 다시 MNIST import하는데, 이번엔 (data index) X 28 X 28 인 채로 사용"
   ]
  },
  {
   "cell_type": "code",
   "execution_count": 20,
   "metadata": {},
   "outputs": [],
   "source": [
    "import numpy as np\n",
    "from keras.datasets import mnist\n",
    "from keras.utils import np_utils\n",
    "\n",
    "(x_train, y_train), (x_test, y_test) = mnist.load_data()\n",
    "x_train = x_train.reshape(60000, 28, 28, 1)\n",
    "x_test = x_test.reshape(10000, 28, 28, 1)\n",
    "x_train = x_train.astype('float32')\n",
    "x_test = x_test.astype('float32')\n",
    "x_train /= 255\n",
    "x_test /= 255\n",
    "num_classes = 10\n",
    "y_train = np_utils.to_categorical(y_train, num_classes) # 원핫인코딩\n",
    "y_test = np_utils.to_categorical(y_test, num_classes)"
   ]
  },
  {
   "cell_type": "markdown",
   "metadata": {},
   "source": [
    "### 2개의 필터(가로, 세로 엣지)를 한번 적용해보기! => myfil1, myfil2"
   ]
  },
  {
   "cell_type": "code",
   "execution_count": 23,
   "metadata": {},
   "outputs": [
    {
     "data": {
      "image/png": "[encoded data removed]",
      "text/plain": [
       "<Figure size 864x230.4 with 3 Axes>"
      ]
     },
     "metadata": {
      "needs_background": "light"
     },
     "output_type": "display_data"
    }
   ],
   "source": [
    "import matplotlib.pyplot as plt\n",
    "%matplotlib inline\n",
    "\n",
    "\n",
    "# 필터 처리할 이미지 선택, 가공\n",
    "id_img = 2 # 2번지 훈련 이미지 데이터인 '4'에다가 적용해보기 (img index =2)\n",
    "\n",
    "myfil1 = np.array([[1,1,1], [1,1,1], [-2,-2,-2]], dtype=float) # 가로 엣지 강조 필터 / 필터 배열 생성하면서 data type을 float형으로 지정\n",
    "myfil2 = np.array([[-2,1,1], [-2,1,1], [-2,1,1]], dtype=float) # 세로 엣지 강조 필터\n",
    "\n",
    "x_img = x_train[id_img, :, :, 0]\n",
    "img_h = 28\n",
    "img_w = 28\n",
    "x_img = x_img.reshape(img_h, img_w)\n",
    "out_img1 = np.zeros_like(x_img)\n",
    "out_img2 = np.zeros_like(x_img)\n",
    "\n",
    "\n",
    "# 필터 처리\n",
    "for ih in range(img_h - 3):\n",
    "    for iw in range(img_w - 3):\n",
    "        img_part = x_img[ih : ih+3, iw : iw+3] # 이미지의 일부를 (커널만큼) 떼어오는 것 / ih:ih+3  ==> 만약 ih=0이면 0,1,2 까지만 뗴어오기!\n",
    "        out_img1[ih+1, iw+1] = np.dot(img_part.reshape(-1), myfil1.reshape(-1)) # 필터1 적용\n",
    "        out_img2[ih+1, iw+1] = np.dot(img_part.reshape(-1), myfil2.reshape(-1)) # 필터2 적용\n",
    "\n",
    "        \n",
    "# 표시하기\n",
    "plt.figure(1, figsize=(12, 3.2))\n",
    "plt.subplots_adjust(wspace=0.5)\n",
    "plt.gray()\n",
    "\n",
    "plt.subplot(1,3,1)  # 첫번째 subplot : 원래 이미지 (흰색 : 0, 검정색 : 1)\n",
    "plt.pcolor(1 - x_img)\n",
    "plt.xlim(-1, 29)\n",
    "plt.ylim(29, -1)\n",
    "\n",
    "plt.subplot(1,3,2)  # 두번째 subplot : 필터1(가로 엣지 강조) 적용 이미지 (흰색 : 작은 값, 검정색 : 큰 값)\n",
    "plt.pcolor(-out_img1)\n",
    "plt.xlim(-1,29)\n",
    "plt.ylim(29,-1)\n",
    "\n",
    "plt.subplot(1,3,3)  # 첫번째 subplot : 필터2(세로 엣지 강조) 적용 이미지 (흰색 : 작은 값, 검정색 : 큰 값)\n",
    "plt.pcolor(-out_img2)\n",
    "plt.xlim(-1,29)\n",
    "plt.ylim(29,-1)\n",
    "\n",
    "plt.show()"
   ]
  },
  {
   "cell_type": "markdown",
   "metadata": {},
   "source": [
    "**< astype() & dtype >**   \n",
    "* arr.astype('float32') : 배열의 형을 통째로 float으로 바꾸고 싶을 때.\n",
    "    * print(arr.astype()) => 변환한 후의 배열의 data type 확인\n",
    "* arr = np.array([ ], dtype=float) : **np.array() 함수로 배열 만들 때** data의 자료형 명시적으로 지정. (np.array([ ], dtype='f')\n",
    "    * print(arr.dtype) => 걍 그 배열의 data type 확인\n",
    "  \n",
    "**< reshape(-1) >**\n",
    "* reshape(16,16,-1) => 만약 원래가 64x64x3짜리였다면, 16x16으로 나눠서 남은 값인 4x4x3=48을 나머지 차원으로 해라~ 이런 뜻!\n",
    "* reshape(-1) => 걍 1차원으로 배열 flatten?"
   ]
  },
  {
   "cell_type": "code",
   "execution_count": 29,
   "metadata": {},
   "outputs": [
    {
     "name": "stdout",
     "output_type": "stream",
     "text": [
      "[[1 2 3]\n",
      " [4 5 6]]\n",
      "[1 2 3 4 5 6]\n",
      "[[1 2 3]\n",
      " [4 5 6]]\n"
     ]
    }
   ],
   "source": [
    "arr = np.array([[1,2,3],[4,5,6]])\n",
    "print(arr)\n",
    "print(arr.reshape(-1)) # reshape해서 다른 변수에 저장하지 않는 한, arr자체를 바꾸진 않음!\n",
    "print(arr)"
   ]
  },
  {
   "cell_type": "markdown",
   "metadata": {},
   "source": [
    "### 패딩(padding) & 스트라이드(stride) => 출력 이미지 크기에 영향줌 (CNN 모델 사용 시 인수로 전달할 매개변수)"
   ]
  },
  {
   "cell_type": "markdown",
   "metadata": {},
   "source": [
    "* 필터(합성곱, convolution) 연산 시 출력 이미지는 원래 크기보다 작아진다.  \n",
    "* padding : 0 덧대기 하면, 이미지의 크기가 변하지 않는다.\n",
    "* stride : 필터를 이동하는 간격. 스트라이드가 크면 출력 이미지는 작아진다."
   ]
  },
  {
   "cell_type": "markdown",
   "metadata": {},
   "source": [
    "### CNN 모델 만들기! => 필터 자체를 학습시키는 신경망인 CNN"
   ]
  },
  {
   "cell_type": "code",
   "execution_count": null,
   "metadata": {},
   "outputs": [],
   "source": []
  }
 ],
 "metadata": {
  "kernelspec": {
   "display_name": "Python 3",
   "language": "python",
   "name": "python3"
  },
  "language_info": {
   "codemirror_mode": {
    "name": "ipython",
    "version": 3
   },
   "file_extension": ".py",
   "mimetype": "text/x-python",
   "name": "python",
   "nbconvert_exporter": "python",
   "pygments_lexer": "ipython3",
   "version": "3.7.3"
  }
 },
 "nbformat": 4,
 "nbformat_minor": 2
}
