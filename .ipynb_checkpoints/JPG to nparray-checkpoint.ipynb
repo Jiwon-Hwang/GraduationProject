{
 "cells": [
  {
   "cell_type": "markdown",
   "metadata": {},
   "source": [
    "# JPG(PNG) 이미지를 np.array로 변환해서 저장"
   ]
  },
  {
   "cell_type": "code",
   "execution_count": 21,
   "metadata": {},
   "outputs": [
    {
     "name": "stdout",
     "output_type": "stream",
     "text": [
      "test_image.jpg\n",
      "test_image\n"
     ]
    }
   ],
   "source": [
    "import numpy as np\n",
    "from PIL import Image\n",
    "import math\n",
    "import os\n",
    "\n",
    "path_dir = 'C:\\\\Users\\\\pc\\\\Desktop\\\\test\\\\origin(jpg)\\\\'\n",
    "file_list = os.listdir(path_dir)\n",
    "\n",
    "\n",
    "\n",
    "for jpg in file_list:\n",
    "    im = Image.open(path_dir+jpg)\n",
    "    \n",
    "    print(jpg)\n",
    "    \n",
    "    pix = np.array(im)  # 이미지를 np.array로 변환해서 pix에 저장\n",
    "    jpg = jpg.split('.')[0]  # . 기준으로 짤라서 각각 배열에 넣고, 그 중 앞에꺼만 ([0])\n",
    "    \n",
    "    print(jpg)\n",
    "    \n",
    "    np.save(\"C:\\\\Users\\\\pc\\\\Desktop\\\\test\\\\trans(nparray)\\\\\"+jpg, pix) # np.save(파일명(경로포함), 저장할 data)\n",
    "\n",
    "# test_image.npy 파일이 생성됨!"
   ]
  },
  {
   "cell_type": "code",
   "execution_count": 11,
   "metadata": {},
   "outputs": [],
   "source": [
    "import numpy as np\n",
    "from PIL import Image\n",
    "import math\n",
    "import os\n",
    "\n",
    "path_dir = 'D:Big data/convert/(T2)key_hole/key_hole(50%)'\n",
    "file_list = os.listdir(path_dir)\n",
    "\n",
    "\n",
    "\n",
    "for png in file_list:\n",
    "    im = Image.open('D:Big data/convert/(T2)key_hole/key_hole(50%)/'+png)\n",
    "    pix = np.array(im)\n",
    "    png = png.split('.')[0]\n",
    "    np.save(\"./Young/T2python/T2_keyhole(50%)np/\"+png, pix)\n",
    "\n",
    " "
   ]
  }
 ],
 "metadata": {
  "kernelspec": {
   "display_name": "Python 3",
   "language": "python",
   "name": "python3"
  },
  "language_info": {
   "codemirror_mode": {
    "name": "ipython",
    "version": 3
   },
   "file_extension": ".py",
   "mimetype": "text/x-python",
   "name": "python",
   "nbconvert_exporter": "python",
   "pygments_lexer": "ipython3",
   "version": "3.7.3"
  }
 },
 "nbformat": 4,
 "nbformat_minor": 2
}
